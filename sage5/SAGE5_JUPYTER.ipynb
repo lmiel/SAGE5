{
 "cells": [
  {
   "cell_type": "code",
   "execution_count": 9,
   "id": "ac60865c",
   "metadata": {},
   "outputs": [
    {
     "data": {
      "text/plain": [
       "1/5"
      ]
     },
     "execution_count": 9,
     "metadata": {},
     "output_type": "execute_result"
    }
   ],
   "source": [
    "f(x)=(x^3+2*x-1)/(5*x^3+x^2-2*x+1)\n",
    "limit(f(x),x=oo)"
   ]
  },
  {
   "cell_type": "code",
   "execution_count": 12,
   "id": "d31d9ae6",
   "metadata": {},
   "outputs": [
    {
     "data": {
      "text/plain": [
       "-5/2"
      ]
     },
     "execution_count": 12,
     "metadata": {},
     "output_type": "execute_result"
    }
   ],
   "source": [
    "x=var('x')\n",
    "f(x)=sqrt(x^2-x)-sqrt(x^2+4*x)\n",
    "limit(f(x),x=oo)"
   ]
  },
  {
   "cell_type": "code",
   "execution_count": 13,
   "id": "6dd82f9e",
   "metadata": {},
   "outputs": [
    {
     "data": {
      "text/plain": [
       "0"
      ]
     },
     "execution_count": 13,
     "metadata": {},
     "output_type": "execute_result"
    }
   ],
   "source": [
    "x=var('x')\n",
    "f(x)=ln(1+x+sqrt(x))-ln(x)\n",
    "limit(f(x),x=oo)"
   ]
  },
  {
   "cell_type": "code",
   "execution_count": 15,
   "id": "420edb1a",
   "metadata": {},
   "outputs": [
    {
     "data": {
      "text/plain": [
       "1/4"
      ]
     },
     "execution_count": 15,
     "metadata": {},
     "output_type": "execute_result"
    }
   ],
   "source": [
    "n=var('n')\n",
    "f(x)=(n^2*(n+1)^2)/(4*(n^4))\n",
    "limit(f(n),n=oo)"
   ]
  },
  {
   "cell_type": "code",
   "execution_count": 19,
   "id": "981b643e",
   "metadata": {},
   "outputs": [
    {
     "data": {
      "text/plain": [
       "e^(-3)"
      ]
     },
     "execution_count": 19,
     "metadata": {},
     "output_type": "execute_result"
    }
   ],
   "source": [
    "n=var('n')\n",
    "f(n)=((n^3-2*n)/(n^3+3*n^2-2*n-1))^n\n",
    "limit(f(n),n=oo)"
   ]
  },
  {
   "cell_type": "code",
   "execution_count": 20,
   "id": "0069c672",
   "metadata": {},
   "outputs": [
    {
     "data": {
      "text/plain": [
       "5/4"
      ]
     },
     "execution_count": 20,
     "metadata": {},
     "output_type": "execute_result"
    }
   ],
   "source": [
    "n=var('n')\n",
    "f(n)= (n+2)/(n**3 - n)\n",
    "sum(f(n), n, 2, infinity)"
   ]
  },
  {
   "cell_type": "code",
   "execution_count": 21,
   "id": "b1efba95",
   "metadata": {},
   "outputs": [
    {
     "data": {
      "text/plain": [
       "1/4"
      ]
     },
     "execution_count": 21,
     "metadata": {},
     "output_type": "execute_result"
    }
   ],
   "source": [
    "n=var('n')\n",
    "f(n)=1/(n**3 - n)\n",
    "sum(f(n),n, 2, infinity)"
   ]
  },
  {
   "cell_type": "code",
   "execution_count": 24,
   "id": "7ea6b9d2",
   "metadata": {},
   "outputs": [
    {
     "data": {
      "text/plain": [
       "(-1)^n*sum(x^n, x, 0, +Infinity)"
      ]
     },
     "execution_count": 24,
     "metadata": {},
     "output_type": "execute_result"
    }
   ],
   "source": [
    "n=var('n')\n",
    "f(n)= (-1)**n * x^n\n",
    "sum(f(n), x, 0, oo)"
   ]
  },
  {
   "cell_type": "code",
   "execution_count": 23,
   "id": "c16dde09",
   "metadata": {},
   "outputs": [
    {
     "data": {
      "text/plain": [
       "4^n*(-1)^n*sum(x^(2*n), x, 0, +Infinity)"
      ]
     },
     "execution_count": 23,
     "metadata": {},
     "output_type": "execute_result"
    }
   ],
   "source": [
    "n=var('n')\n",
    "f(n)= (-1)^n * 4^n * x^(2*n)\n",
    "sum(f(n), x, 0, infinity)"
   ]
  },
  {
   "cell_type": "code",
   "execution_count": 25,
   "id": "c2744ee3",
   "metadata": {},
   "outputs": [
    {
     "data": {
      "text/plain": [
       "-8*x^3 + 4*x^2 - 2*x + 1"
      ]
     },
     "execution_count": 25,
     "metadata": {},
     "output_type": "execute_result"
    }
   ],
   "source": [
    "x=var('x')\n",
    "f(x)= 1/(1 + x*2)\n",
    "taylor(f(x), x, 0, 3)"
   ]
  },
  {
   "cell_type": "code",
   "execution_count": 26,
   "id": "4c1f6b1c",
   "metadata": {},
   "outputs": [
    {
     "data": {
      "text/plain": [
       "-1/2*x^3 + x"
      ]
     },
     "execution_count": 26,
     "metadata": {},
     "output_type": "execute_result"
    }
   ],
   "source": [
    "x=var('x')\n",
    "g(x)= x*cos(x)\n",
    "taylor(g(x), x, 0, 3)"
   ]
  },
  {
   "cell_type": "code",
   "execution_count": null,
   "id": "3de39ab7",
   "metadata": {},
   "outputs": [],
   "source": []
  }
 ],
 "metadata": {
  "kernelspec": {
   "display_name": "Python 3",
   "language": "python",
   "name": "python3"
  },
  "language_info": {
   "codemirror_mode": {
    "name": "ipython",
    "version": 3
   },
   "file_extension": ".py",
   "mimetype": "text/x-python",
   "name": "python",
   "nbconvert_exporter": "python",
   "pygments_lexer": "ipython3",
   "version": "3.10.7 (tags/v3.10.7:6cc6b13, Sep  5 2022, 14:08:36) [MSC v.1933 64 bit (AMD64)]"
  },
  "vscode": {
   "interpreter": {
    "hash": "b48ab8baa29243ab304f035f63a357f66f79502c7f334a63d96cbb35ab2463e8"
   }
  }
 },
 "nbformat": 4,
 "nbformat_minor": 5
}
